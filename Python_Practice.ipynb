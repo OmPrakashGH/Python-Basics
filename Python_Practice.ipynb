{
  "nbformat": 4,
  "nbformat_minor": 0,
  "metadata": {
    "colab": {
      "provenance": [],
      "authorship_tag": "ABX9TyMGJCLdtEQWvyAz/0wphlOd",
      "include_colab_link": true
    },
    "kernelspec": {
      "name": "python3",
      "display_name": "Python 3"
    },
    "language_info": {
      "name": "python"
    }
  },
  "cells": [
    {
      "cell_type": "markdown",
      "metadata": {
        "id": "view-in-github",
        "colab_type": "text"
      },
      "source": [
        "<a href=\"https://colab.research.google.com/github/OmPrakashGH/Python-Basics/blob/main/Python_Practice.ipynb\" target=\"_parent\"><img src=\"https://colab.research.google.com/assets/colab-badge.svg\" alt=\"Open In Colab\"/></a>"
      ]
    },
    {
      "cell_type": "markdown",
      "source": [
        "# Strings"
      ],
      "metadata": {
        "id": "IxZ9htHf96Bd"
      }
    },
    {
      "cell_type": "code",
      "execution_count": null,
      "metadata": {
        "id": "M_2jEqeE6OrU"
      },
      "outputs": [],
      "source": [
        "sen1 = \"My name is\"\n",
        "sen2 =  \"Om Prakash Pradhan\"\n",
        "word = \"Almabetter\""
      ]
    },
    {
      "cell_type": "markdown",
      "source": [
        "## String Concatenation"
      ],
      "metadata": {
        "id": "2NLcnD3qAEOE"
      }
    },
    {
      "cell_type": "code",
      "source": [
        "print(sen1+' '+sen2+'.')"
      ],
      "metadata": {
        "colab": {
          "base_uri": "https://localhost:8080/"
        },
        "id": "yaFAlDjx-d5T",
        "outputId": "7ba13629-944e-46c1-b852-050dea2b2d73"
      },
      "execution_count": null,
      "outputs": [
        {
          "output_type": "stream",
          "name": "stdout",
          "text": [
            "My name is Om Prakash Pradhan.\n"
          ]
        }
      ]
    },
    {
      "cell_type": "markdown",
      "source": [
        "## String slicing"
      ],
      "metadata": {
        "id": "LzEcQYvKAInL"
      }
    },
    {
      "cell_type": "code",
      "source": [
        "print(sen1[3:5])\n",
        "\n",
        "# without starting index\n",
        "print(\"sen2[:6]-\",sen2[:6])\n",
        "\n",
        "# without ending index\n",
        "print(\"word[5:]-\",word[5:])\n",
        "\n",
        "# slicing with step size\n",
        "print(\"word[::2]-\",word[::2])\n",
        "\n",
        "# reversing the string by negative step size\n",
        "print(\"word[::-1]-\",word[::-1])"
      ],
      "metadata": {
        "colab": {
          "base_uri": "https://localhost:8080/"
        },
        "id": "MP7seuRC-3uj",
        "outputId": "55e8d1af-4de7-4592-bbd7-55a651ee524c"
      },
      "execution_count": null,
      "outputs": [
        {
          "output_type": "stream",
          "name": "stdout",
          "text": [
            "na\n",
            "sen2[:6]- Om Pra\n",
            "word[5:]- etter\n",
            "word[::2]- Ambte\n",
            "word[::-1]- rettebamlA\n"
          ]
        }
      ]
    },
    {
      "cell_type": "markdown",
      "source": [
        "## String Methods"
      ],
      "metadata": {
        "id": "gkpWlywhCgxb"
      }
    },
    {
      "cell_type": "code",
      "source": [
        "word = \"Almabetter\""
      ],
      "metadata": {
        "id": "ClhKXy4JCpew"
      },
      "execution_count": null,
      "outputs": []
    },
    {
      "cell_type": "code",
      "source": [
        "len(word)"
      ],
      "metadata": {
        "colab": {
          "base_uri": "https://localhost:8080/"
        },
        "id": "PTDL42qUClM2",
        "outputId": "bfe02fb4-96ac-4266-908e-31aa15a33e58"
      },
      "execution_count": null,
      "outputs": [
        {
          "output_type": "execute_result",
          "data": {
            "text/plain": [
              "10"
            ]
          },
          "metadata": {},
          "execution_count": 16
        }
      ]
    },
    {
      "cell_type": "markdown",
      "source": [
        "**capitalize():** returns a string where the first character is upper case, and the rest is lower case."
      ],
      "metadata": {
        "id": "HIMm78HiD7XI"
      }
    },
    {
      "cell_type": "code",
      "source": [
        "txt = \"hello, and welcome to my world.\"\n",
        "x = txt.capitalize()\n",
        "print (x)"
      ],
      "metadata": {
        "colab": {
          "base_uri": "https://localhost:8080/"
        },
        "id": "_Hf52lkJCyWF",
        "outputId": "057adcd1-4c4e-425f-e02f-784b86a860b2"
      },
      "execution_count": null,
      "outputs": [
        {
          "output_type": "stream",
          "name": "stdout",
          "text": [
            "Hello, and welcome to my world.\n"
          ]
        }
      ]
    },
    {
      "cell_type": "markdown",
      "source": [
        "**count():**\tReturns the number of times a specified value occurs in a string"
      ],
      "metadata": {
        "id": "MJ11kplrEk40"
      }
    },
    {
      "cell_type": "code",
      "source": [
        "txt = \"I love apples, apple are my favorite fruit\"\n",
        "\n",
        "x = txt.count(\"apple\")\n",
        "\n",
        "print(x)"
      ],
      "metadata": {
        "colab": {
          "base_uri": "https://localhost:8080/"
        },
        "id": "FIj82D9CErSa",
        "outputId": "631cbeaa-bbc5-4b76-95b4-2c7d9f037271"
      },
      "execution_count": null,
      "outputs": [
        {
          "output_type": "stream",
          "name": "stdout",
          "text": [
            "2\n"
          ]
        }
      ]
    },
    {
      "cell_type": "markdown",
      "source": [
        "**endswith():**\tReturns true if the string ends with the specified value\n",
        "\n",
        "**startswith():**\tReturns true if the string starts with the specified value"
      ],
      "metadata": {
        "id": "3BU4sB6zErq1"
      }
    },
    {
      "cell_type": "code",
      "source": [
        "txt = \"Hello, welcome to my world.\"\n",
        "\n",
        "x = txt.endswith(\".\")\n",
        "\n",
        "print(x)\n",
        "\n",
        "txt = \"Hello, welcome to my world.\"\n",
        "\n",
        "x = txt.startswith(\"Hello\")\n",
        "\n",
        "print(x)"
      ],
      "metadata": {
        "colab": {
          "base_uri": "https://localhost:8080/"
        },
        "id": "3Z2gJr_aE1N8",
        "outputId": "c4de58ff-2e36-4dff-bd77-d6f9c20b4474"
      },
      "execution_count": null,
      "outputs": [
        {
          "output_type": "stream",
          "name": "stdout",
          "text": [
            "True\n",
            "True\n"
          ]
        }
      ]
    },
    {
      "cell_type": "markdown",
      "source": [
        "**find()**\tSearches the string for a specified value and returns the position of where it was found"
      ],
      "metadata": {
        "id": "3ndZV1M8E4iH"
      }
    },
    {
      "cell_type": "code",
      "source": [
        "txt = \"Hello, welcome to my world.\"\n",
        "\n",
        "x = txt.find(\"welcome\")\n",
        "\n",
        "print(x)"
      ],
      "metadata": {
        "colab": {
          "base_uri": "https://localhost:8080/"
        },
        "id": "cvJy2iejE5l_",
        "outputId": "c683d666-85a3-420b-e0ff-3dea9a583fb4"
      },
      "execution_count": null,
      "outputs": [
        {
          "output_type": "stream",
          "name": "stdout",
          "text": [
            "7\n"
          ]
        }
      ]
    },
    {
      "cell_type": "markdown",
      "source": [
        "**format()**\tFormats specified values in a string"
      ],
      "metadata": {
        "id": "MDiMl58ZE6Am"
      }
    },
    {
      "cell_type": "code",
      "source": [
        "txt = \"For only {price:.2f} dollars!\"\n",
        "print(txt.format(price = 49))"
      ],
      "metadata": {
        "colab": {
          "base_uri": "https://localhost:8080/"
        },
        "id": "V3zzD4FDFA_P",
        "outputId": "94437ff3-9df2-41b1-cbb6-6e636c1a8beb"
      },
      "execution_count": null,
      "outputs": [
        {
          "output_type": "stream",
          "name": "stdout",
          "text": [
            "For only 49.00 dollars!\n"
          ]
        }
      ]
    },
    {
      "cell_type": "markdown",
      "source": [
        "**isalnum()**\tReturns True if all characters in the string are alphanumeric\n",
        "\n",
        "**isalpha()**\tReturns True if all characters in the string are in the alphabet\n",
        "\n",
        "**isdigit()**\tReturns True if all characters in the string are digits"
      ],
      "metadata": {
        "id": "26edcSgqFBi8"
      }
    },
    {
      "cell_type": "code",
      "source": [
        "txt = \"Company12\"\n",
        "\n",
        "x = txt.isalnum()\n",
        "\n",
        "print(x)"
      ],
      "metadata": {
        "colab": {
          "base_uri": "https://localhost:8080/"
        },
        "id": "UjP-FWqsFJdF",
        "outputId": "cb934e8d-45cf-4fad-d227-ef40192a08c2"
      },
      "execution_count": null,
      "outputs": [
        {
          "output_type": "stream",
          "name": "stdout",
          "text": [
            "True\n"
          ]
        }
      ]
    },
    {
      "cell_type": "code",
      "source": [
        "txt = \"CompanyX\"\n",
        "\n",
        "x = txt.isalpha()\n",
        "\n",
        "print(x)"
      ],
      "metadata": {
        "colab": {
          "base_uri": "https://localhost:8080/"
        },
        "id": "Rmre7w4iFOkU",
        "outputId": "7183fe1c-04da-4175-dae0-16879031defd"
      },
      "execution_count": null,
      "outputs": [
        {
          "output_type": "stream",
          "name": "stdout",
          "text": [
            "True\n"
          ]
        }
      ]
    },
    {
      "cell_type": "code",
      "source": [
        "txt = \"50800\"\n",
        "\n",
        "x = txt.isdigit()\n",
        "\n",
        "print(x)"
      ],
      "metadata": {
        "colab": {
          "base_uri": "https://localhost:8080/"
        },
        "id": "YEOPNfCpP_AV",
        "outputId": "8890e3cb-02b5-4a28-9b85-7be39598e9f9"
      },
      "execution_count": null,
      "outputs": [
        {
          "output_type": "stream",
          "name": "stdout",
          "text": [
            "True\n"
          ]
        }
      ]
    },
    {
      "cell_type": "markdown",
      "source": [
        "**lower()**\tConverts a string into lower case\n",
        "\n",
        "**upper()**\tConverts a string into upper case\n",
        "\n",
        "**swapcase()** Swaps cases, lower case becomes upper case and vice versa"
      ],
      "metadata": {
        "id": "k_YYowW6FTHu"
      }
    },
    {
      "cell_type": "code",
      "source": [
        "txt = \"Hello my FRIENDS\"\n",
        "\n",
        "x = txt.lower()\n",
        "\n",
        "print(x)"
      ],
      "metadata": {
        "colab": {
          "base_uri": "https://localhost:8080/"
        },
        "id": "Vr3KxWAkFRfw",
        "outputId": "4c148273-8b1f-47c3-d287-95562802688e"
      },
      "execution_count": null,
      "outputs": [
        {
          "output_type": "stream",
          "name": "stdout",
          "text": [
            "hello my friends\n"
          ]
        }
      ]
    },
    {
      "cell_type": "code",
      "source": [
        "txt = \"Hello My Name Is PETER\"\n",
        "\n",
        "x = txt.swapcase()\n",
        "\n",
        "print(x)"
      ],
      "metadata": {
        "colab": {
          "base_uri": "https://localhost:8080/"
        },
        "id": "1trB-stgQSIF",
        "outputId": "c0b9964e-f142-4ab6-f60f-03c21da21de7"
      },
      "execution_count": null,
      "outputs": [
        {
          "output_type": "stream",
          "name": "stdout",
          "text": [
            "hELLO mY nAME iS peter\n"
          ]
        }
      ]
    },
    {
      "cell_type": "markdown",
      "source": [
        "**replace()**\tReturns a string where a specified value is replaced with a specified value"
      ],
      "metadata": {
        "id": "dRV2ft3JG9I3"
      }
    },
    {
      "cell_type": "code",
      "source": [
        "txt = \"I like bananas\"\n",
        "\n",
        "x = txt.replace(\"bananas\", \"apples\")\n",
        "\n",
        "print(x)"
      ],
      "metadata": {
        "colab": {
          "base_uri": "https://localhost:8080/"
        },
        "id": "3HK6BwKtFUF0",
        "outputId": "37c7c0b4-39a5-441c-f422-da6c54adef68"
      },
      "execution_count": null,
      "outputs": [
        {
          "output_type": "stream",
          "name": "stdout",
          "text": [
            "I like apples\n"
          ]
        }
      ]
    },
    {
      "cell_type": "markdown",
      "source": [
        "**zfill()**\tFills the string with a specified number of 0 values at the beginning"
      ],
      "metadata": {
        "id": "ghZZy4PvFof0"
      }
    },
    {
      "cell_type": "code",
      "source": [
        "txt = \"50\"\n",
        "\n",
        "x = txt.zfill(10)\n",
        "\n",
        "print(x)"
      ],
      "metadata": {
        "colab": {
          "base_uri": "https://localhost:8080/"
        },
        "id": "KDLsaj6SFpIJ",
        "outputId": "5ff6a916-b887-4efb-d4e3-d7c62df91eb6"
      },
      "execution_count": null,
      "outputs": [
        {
          "output_type": "stream",
          "name": "stdout",
          "text": [
            "0000000050\n"
          ]
        }
      ]
    },
    {
      "cell_type": "markdown",
      "source": [
        "**split()**\tSplits the string at the specified separator, and returns a list"
      ],
      "metadata": {
        "id": "lCHRuofCFpg1"
      }
    },
    {
      "cell_type": "code",
      "source": [
        "txt = \"welcome to the jungle\"\n",
        "\n",
        "x = txt.split(' ')\n",
        "\n",
        "print(x)"
      ],
      "metadata": {
        "colab": {
          "base_uri": "https://localhost:8080/"
        },
        "id": "VoeCUuz2RN-D",
        "outputId": "6f9ad951-1746-4ed1-c7e2-3b398af37f3a"
      },
      "execution_count": null,
      "outputs": [
        {
          "output_type": "stream",
          "name": "stdout",
          "text": [
            "['welcome', 'to', 'the', 'jungle']\n"
          ]
        }
      ]
    },
    {
      "cell_type": "markdown",
      "source": [
        "**join()**\tConverts the elements of an iterable into a string"
      ],
      "metadata": {
        "id": "ZKMbfnFjQ9Ah"
      }
    },
    {
      "cell_type": "code",
      "source": [
        "myTuple = (\"John\", \"Peter\", \"Vicky\")\n",
        "\n",
        "x = \"#\".join(myTuple)\n",
        "\n",
        "print(x)"
      ],
      "metadata": {
        "colab": {
          "base_uri": "https://localhost:8080/"
        },
        "id": "KB_3r5zYQ8kE",
        "outputId": "796afbaa-4bf6-46eb-e233-7dbc48825389"
      },
      "execution_count": null,
      "outputs": [
        {
          "output_type": "stream",
          "name": "stdout",
          "text": [
            "John#Peter#Vicky\n"
          ]
        }
      ]
    },
    {
      "cell_type": "markdown",
      "source": [
        "# Python Collections (Arrays)"
      ],
      "metadata": {
        "id": "1Fqqm1uSVNZS"
      }
    },
    {
      "cell_type": "markdown",
      "source": [
        "\n",
        "\n",
        "There are four collection data types in the Python programming language:\n",
        "\n",
        "1. **List** is a collection which is ordered and changeable. Allows duplicate members.\n",
        "2. **Tuple** is a collection which is ordered and **unchangeable**. Allows duplicate members.\n",
        "3. **Set** is a collection which is unordered, **unchangeable**, and unindexed. No duplicate members.\n",
        "4. **Dictionary** is a collection which is ordered and changeable. No duplicate members."
      ],
      "metadata": {
        "id": "9rsVsgeYVFQ_"
      }
    },
    {
      "cell_type": "markdown",
      "source": [
        "# List"
      ],
      "metadata": {
        "id": "93_0ukMMTj_P"
      }
    },
    {
      "cell_type": "markdown",
      "source": [
        "Ordered\n",
        "\n",
        "Changable\n",
        "\n",
        "Allow Duplicates"
      ],
      "metadata": {
        "id": "Kyo6z4ouWZi9"
      }
    },
    {
      "cell_type": "markdown",
      "source": [
        "## List Operations"
      ],
      "metadata": {
        "id": "kxYVS9kAWpiU"
      }
    },
    {
      "cell_type": "code",
      "source": [
        "thislist = [\"apple\", \"banana\", \"cherry\"]\n",
        "if \"apple\" in thislist:\n",
        "  print(\"Yes, 'apple' is in the fruits list\")"
      ],
      "metadata": {
        "colab": {
          "base_uri": "https://localhost:8080/"
        },
        "id": "fdYNnM5IW289",
        "outputId": "5197690b-ca75-424c-bf49-ca5f060e422a"
      },
      "execution_count": 2,
      "outputs": [
        {
          "output_type": "stream",
          "name": "stdout",
          "text": [
            "Yes, 'apple' is in the fruits list\n"
          ]
        }
      ]
    },
    {
      "cell_type": "code",
      "source": [
        "# Change List Items\n",
        "\n",
        "thislist = [\"apple\", \"banana\", \"cherry\", \"orange\", \"kiwi\", \"mango\"]\n",
        "thislist[1:3] = [\"blackcurrant\", \"watermelon\"]\n",
        "print(thislist)"
      ],
      "metadata": {
        "colab": {
          "base_uri": "https://localhost:8080/"
        },
        "id": "z4Ts__6UXM5N",
        "outputId": "13cc898b-254f-4993-be3f-1b3e793e5a7e"
      },
      "execution_count": 3,
      "outputs": [
        {
          "output_type": "stream",
          "name": "stdout",
          "text": [
            "['apple', 'blackcurrant', 'watermelon', 'orange', 'kiwi', 'mango']\n"
          ]
        }
      ]
    },
    {
      "cell_type": "code",
      "source": [
        "# Insert \"watermelon\" as the third item:\n",
        "\n",
        "thislist = [\"apple\", \"banana\", \"cherry\"]\n",
        "thislist.insert(2, \"watermelon\")\n",
        "print(thislist)"
      ],
      "metadata": {
        "colab": {
          "base_uri": "https://localhost:8080/"
        },
        "id": "hz6E4vTyXU6F",
        "outputId": "ae1616e9-ac39-444d-fedd-4467fe65c890"
      },
      "execution_count": 4,
      "outputs": [
        {
          "output_type": "stream",
          "name": "stdout",
          "text": [
            "['apple', 'banana', 'watermelon', 'cherry']\n"
          ]
        }
      ]
    },
    {
      "cell_type": "markdown",
      "source": [
        "## Loop Lists"
      ],
      "metadata": {
        "id": "h3S0L8JrX0RJ"
      }
    },
    {
      "cell_type": "code",
      "source": [
        "# Print all items in the list, one by one:\n",
        "\n",
        "thislist = [\"apple\", \"banana\", \"cherry\"]\n",
        "for x in thislist:\n",
        "  print(x)"
      ],
      "metadata": {
        "colab": {
          "base_uri": "https://localhost:8080/"
        },
        "id": "vzEge4yQX2kL",
        "outputId": "cf99033a-5eed-4cab-94a6-71bd409ddc5d"
      },
      "execution_count": 6,
      "outputs": [
        {
          "output_type": "stream",
          "name": "stdout",
          "text": [
            "apple\n",
            "banana\n",
            "cherry\n"
          ]
        }
      ]
    },
    {
      "cell_type": "code",
      "source": [
        "# Print all items by referring to their index number:\n",
        "\n",
        "thislist = [\"apple\", \"banana\", \"cherry\"]\n",
        "for i in range(len(thislist)):\n",
        "  print(thislist[i])"
      ],
      "metadata": {
        "colab": {
          "base_uri": "https://localhost:8080/"
        },
        "id": "fHpleT1AX97v",
        "outputId": "a22b4620-525d-4349-c27d-52a86aa8cd4f"
      },
      "execution_count": 7,
      "outputs": [
        {
          "output_type": "stream",
          "name": "stdout",
          "text": [
            "apple\n",
            "banana\n",
            "cherry\n"
          ]
        }
      ]
    },
    {
      "cell_type": "code",
      "source": [
        "# Print all items, using a while loop to go through all the index numbers\n",
        "\n",
        "thislist = [\"apple\", \"banana\", \"cherry\"]\n",
        "i = 0\n",
        "while i < len(thislist):\n",
        "  print(thislist[i])\n",
        "  i = i + 1"
      ],
      "metadata": {
        "colab": {
          "base_uri": "https://localhost:8080/"
        },
        "id": "JGHpFZSpYC4B",
        "outputId": "ae17507d-57b7-42b2-a559-f31c425c5c39"
      },
      "execution_count": 8,
      "outputs": [
        {
          "output_type": "stream",
          "name": "stdout",
          "text": [
            "apple\n",
            "banana\n",
            "cherry\n"
          ]
        }
      ]
    },
    {
      "cell_type": "code",
      "source": [
        "# Looping using list comprehention\n",
        "\n",
        "thislist = [\"apple\", \"banana\", \"cherry\"]\n",
        "print([i for i in thislist])"
      ],
      "metadata": {
        "colab": {
          "base_uri": "https://localhost:8080/"
        },
        "id": "qx4IQwqtYJ8-",
        "outputId": "88827676-cb20-4222-9282-91457f8e272a"
      },
      "execution_count": 10,
      "outputs": [
        {
          "output_type": "stream",
          "name": "stdout",
          "text": [
            "['apple', 'banana', 'cherry']\n"
          ]
        }
      ]
    },
    {
      "cell_type": "markdown",
      "source": [
        "## List Methods"
      ],
      "metadata": {
        "id": "-2ok8MBuW-2c"
      }
    },
    {
      "cell_type": "markdown",
      "source": [
        "**append()**\tAdds an element at the end of the list"
      ],
      "metadata": {
        "id": "fqcMALxJFySI"
      }
    },
    {
      "cell_type": "code",
      "source": [
        "fruits = ['apple', 'banana', 'cherry']\n",
        "fruits.append(\"orange\")\n",
        "print(fruits)"
      ],
      "metadata": {
        "id": "lCR8GWNqTro7",
        "colab": {
          "base_uri": "https://localhost:8080/"
        },
        "outputId": "a7b1a0f4-faa5-460a-e67d-041940c9fd02"
      },
      "execution_count": null,
      "outputs": [
        {
          "output_type": "stream",
          "name": "stdout",
          "text": [
            "['apple', 'banana', 'cherry', 'orange']\n"
          ]
        }
      ]
    },
    {
      "cell_type": "markdown",
      "source": [
        "**extend()**\tAdd the elements of a list (or any iterable), to the end of the current list"
      ],
      "metadata": {
        "id": "qG_Y4AeHF0Ud"
      }
    },
    {
      "cell_type": "code",
      "source": [
        "fruits = ['apple', 'banana', 'cherry']\n",
        "\n",
        "points = (1, 4, 5, 9)\n",
        "\n",
        "fruits.extend(points)\n",
        "\n",
        "print(fruits)"
      ],
      "metadata": {
        "colab": {
          "base_uri": "https://localhost:8080/"
        },
        "id": "ZLTiJ30PFzwy",
        "outputId": "e11786d9-10a1-4871-f192-0f21d6a16022"
      },
      "execution_count": null,
      "outputs": [
        {
          "output_type": "stream",
          "name": "stdout",
          "text": [
            "['apple', 'banana', 'cherry', 1, 4, 5, 9]\n"
          ]
        }
      ]
    },
    {
      "cell_type": "markdown",
      "source": [
        "**pop()**\tRemoves the element at the specified position"
      ],
      "metadata": {
        "id": "tJCGZ3rSGYI_"
      }
    },
    {
      "cell_type": "code",
      "source": [
        "fruits = ['apple', 'banana', 'cherry']\n",
        "fruits.pop(1)  # Takes index as argument\n",
        "print(fruits)"
      ],
      "metadata": {
        "colab": {
          "base_uri": "https://localhost:8080/"
        },
        "id": "yw1SN8K9GY1t",
        "outputId": "59919b96-9f10-4bab-e8a6-087c9036eba6"
      },
      "execution_count": null,
      "outputs": [
        {
          "output_type": "stream",
          "name": "stdout",
          "text": [
            "['apple', 'cherry']\n"
          ]
        }
      ]
    },
    {
      "cell_type": "markdown",
      "source": [
        "**remove()**\tRemoves the first item with the specified value"
      ],
      "metadata": {
        "id": "woyFFNXpGa8T"
      }
    },
    {
      "cell_type": "code",
      "source": [
        "fruits = ['apple', 'banana', 'cherry']\n",
        "fruits.remove(\"banana\")  # Takes element to be removed as argument\n",
        "print(fruits)"
      ],
      "metadata": {
        "colab": {
          "base_uri": "https://localhost:8080/"
        },
        "id": "OjuTguubGbUK",
        "outputId": "36d5a20b-31cc-47c1-8ceb-0d1f9e88f017"
      },
      "execution_count": null,
      "outputs": [
        {
          "output_type": "stream",
          "name": "stdout",
          "text": [
            "['apple', 'cherry']\n"
          ]
        }
      ]
    },
    {
      "cell_type": "markdown",
      "source": [
        "**count()**\tReturns the number of elements with the specified value"
      ],
      "metadata": {
        "id": "DOMLdWtbFzbw"
      }
    },
    {
      "cell_type": "code",
      "source": [
        "fruits = ['apple', 'banana', 'cherry']\n",
        "x = fruits.count(\"cherry\")\n",
        "print(x)"
      ],
      "metadata": {
        "colab": {
          "base_uri": "https://localhost:8080/"
        },
        "id": "0nApc_7OF0pP",
        "outputId": "7b752ce1-173d-47fd-a5bf-bdf7caafabc9"
      },
      "execution_count": null,
      "outputs": [
        {
          "output_type": "stream",
          "name": "stdout",
          "text": [
            "1\n"
          ]
        }
      ]
    },
    {
      "cell_type": "markdown",
      "source": [
        "**index()**\tReturns the index of the first element with the specified value"
      ],
      "metadata": {
        "id": "pQJiadolF07U"
      }
    },
    {
      "cell_type": "code",
      "source": [
        "fruits = ['apple', 'banana', 'cherry']\n",
        "x = fruits.index(\"cherry\")\n",
        "print(x)"
      ],
      "metadata": {
        "colab": {
          "base_uri": "https://localhost:8080/"
        },
        "id": "gDQ5HBnEF1QL",
        "outputId": "4d5ca0d2-7586-4e60-c298-20a08b398672"
      },
      "execution_count": null,
      "outputs": [
        {
          "output_type": "stream",
          "name": "stdout",
          "text": [
            "2\n"
          ]
        }
      ]
    },
    {
      "cell_type": "markdown",
      "source": [
        "**insert()**\tAdds an element at the specified position"
      ],
      "metadata": {
        "id": "bnODC6NtF1uL"
      }
    },
    {
      "cell_type": "code",
      "source": [
        "# Insert the value \"orange\" as the second element of the fruit list:\n",
        "\n",
        "fruits = ['apple', 'banana', 'cherry']\n",
        "\n",
        "fruits.insert(1, \"orange\")\n",
        "\n",
        "print(fruits)"
      ],
      "metadata": {
        "colab": {
          "base_uri": "https://localhost:8080/"
        },
        "id": "F115QHTDF2EY",
        "outputId": "8b3f0a8b-6b36-40bd-9069-8475b16e5c34"
      },
      "execution_count": null,
      "outputs": [
        {
          "output_type": "stream",
          "name": "stdout",
          "text": [
            "['apple', 'orange', 'banana', 'cherry']\n"
          ]
        }
      ]
    },
    {
      "cell_type": "markdown",
      "source": [
        "**reverse()**\tReverses the order of the list"
      ],
      "metadata": {
        "id": "Rpuu4j3xF2Y9"
      }
    },
    {
      "cell_type": "code",
      "source": [
        "fruits = ['apple', 'banana', 'cherry']\n",
        "\n",
        "fruits.reverse()\n",
        "\n",
        "print(fruits)"
      ],
      "metadata": {
        "colab": {
          "base_uri": "https://localhost:8080/"
        },
        "id": "bBr7Xs6EF2zp",
        "outputId": "32f9f33d-d367-4dcd-f701-69ec14f0a8fc"
      },
      "execution_count": null,
      "outputs": [
        {
          "output_type": "stream",
          "name": "stdout",
          "text": [
            "['cherry', 'banana', 'apple']\n"
          ]
        }
      ]
    },
    {
      "cell_type": "markdown",
      "source": [
        "**sort()**\tSorts the list"
      ],
      "metadata": {
        "id": "3njGPNpHF3Nx"
      }
    },
    {
      "cell_type": "code",
      "source": [
        "cars = ['Ford', 'BMW', 'Volvo']\n",
        "num = [5,9,63,8]\n",
        "\n",
        "cars.sort()                # For Ascending\n",
        "num.sort(reverse = True)   # For Descending\n",
        "\n",
        "print(cars)\n",
        "print(num)"
      ],
      "metadata": {
        "colab": {
          "base_uri": "https://localhost:8080/"
        },
        "id": "MSX-4cZdF3jn",
        "outputId": "5bb8e8fc-5d29-4b5e-c885-6809ba9f247f"
      },
      "execution_count": null,
      "outputs": [
        {
          "output_type": "stream",
          "name": "stdout",
          "text": [
            "['BMW', 'Ford', 'Volvo']\n",
            "[63, 9, 8, 5]\n"
          ]
        }
      ]
    },
    {
      "cell_type": "markdown",
      "source": [
        "**clear()**\tRemoves all the elements from the list"
      ],
      "metadata": {
        "id": "3LJBrwKrF322"
      }
    },
    {
      "cell_type": "code",
      "source": [
        "fruits = ['apple', 'banana', 'cherry', 'orange']\n",
        "\n",
        "fruits.clear()\n",
        "\n",
        "print(fruits)"
      ],
      "metadata": {
        "colab": {
          "base_uri": "https://localhost:8080/"
        },
        "id": "Wynu6lzoF4OP",
        "outputId": "f1aa4ea0-dc30-4b74-8b24-9a13a425b44d"
      },
      "execution_count": null,
      "outputs": [
        {
          "output_type": "stream",
          "name": "stdout",
          "text": [
            "[]\n"
          ]
        }
      ]
    },
    {
      "cell_type": "markdown",
      "source": [
        "**min(), max(), sum()**"
      ],
      "metadata": {
        "id": "kgLpM1ZUF4qm"
      }
    },
    {
      "cell_type": "code",
      "source": [
        "print(min([2,9,1,89]))\n",
        "print(max([69,9,7,89,36,1]))\n",
        "print(sum([21,6,98]))"
      ],
      "metadata": {
        "colab": {
          "base_uri": "https://localhost:8080/"
        },
        "id": "XKx5_71mF5Cj",
        "outputId": "f0ac19ea-294e-47ee-8b41-6ad065dcc034"
      },
      "execution_count": null,
      "outputs": [
        {
          "output_type": "stream",
          "name": "stdout",
          "text": [
            "1\n",
            "89\n",
            "125\n"
          ]
        }
      ]
    },
    {
      "cell_type": "code",
      "source": [
        "# Join two list:\n",
        "\n",
        "list1 = [\"a\", \"b\", \"c\"]\n",
        "list2 = [1, 2, 3]\n",
        "\n",
        "list3 = list1 + list2\n",
        "print(list3)"
      ],
      "metadata": {
        "colab": {
          "base_uri": "https://localhost:8080/"
        },
        "id": "lqAWT_vUXmnG",
        "outputId": "f398ca4e-fdb3-4e39-8e32-b8184db421c7"
      },
      "execution_count": 5,
      "outputs": [
        {
          "output_type": "stream",
          "name": "stdout",
          "text": [
            "['a', 'b', 'c', 1, 2, 3]\n"
          ]
        }
      ]
    },
    {
      "cell_type": "markdown",
      "source": [
        "# Tuple"
      ],
      "metadata": {
        "id": "H2nGezl4WJx7"
      }
    },
    {
      "cell_type": "markdown",
      "source": [
        "**Ordered**\n",
        "\n",
        "When we say that tuples are ordered, it means that the items have a defined order, and that order will not change.\n",
        "\n",
        "**Unchangeable**\n",
        "\n",
        "Tuples are unchangeable, meaning that we cannot change, add or remove items after the tuple has been created.\n",
        "\n",
        "**Allow Duplicates**\n",
        "\n",
        "Since tuples are indexed, they can have items with the same value:"
      ],
      "metadata": {
        "id": "QD80XhlJZ0Qk"
      }
    },
    {
      "cell_type": "code",
      "source": [
        "tuple1 = (\"abc\", 34, True, 40, \"male\")"
      ],
      "metadata": {
        "id": "bB_MbGKPWPSQ"
      },
      "execution_count": 1,
      "outputs": []
    },
    {
      "cell_type": "markdown",
      "source": [
        "**Change Tuple Values**\n",
        "\n",
        "Once a tuple is created, you cannot change its values. Tuples are unchangeable, or immutable as it also is called.\n",
        "\n",
        "But there is a workaround. You can convert the tuple into a list, change the list, and convert the list back into a tuple.\n",
        "\n",
        "Example\n",
        "Convert the tuple into a list to be able to change it:"
      ],
      "metadata": {
        "id": "spvt9c8caMKV"
      }
    },
    {
      "cell_type": "code",
      "source": [
        "x = (\"apple\", \"banana\", \"cherry\")\n",
        "y = list(x)\n",
        "y[1] = \"kiwi\"\n",
        "x = tuple(y)\n",
        "\n",
        "print(x)"
      ],
      "metadata": {
        "colab": {
          "base_uri": "https://localhost:8080/"
        },
        "id": "0Xg4Ptb_aJBX",
        "outputId": "1c529bb4-1ea6-41dd-85bc-05cadb61874f"
      },
      "execution_count": 11,
      "outputs": [
        {
          "output_type": "stream",
          "name": "stdout",
          "text": [
            "('apple', 'kiwi', 'cherry')\n"
          ]
        }
      ]
    },
    {
      "cell_type": "markdown",
      "source": [
        "**Add Items**\n",
        "\n",
        "Convert the tuple into a list, add \"orange\", and convert it back into a tuple:"
      ],
      "metadata": {
        "id": "EFMuKmfjadxm"
      }
    },
    {
      "cell_type": "code",
      "source": [
        "thistuple = (\"apple\", \"banana\", \"cherry\")\n",
        "y = list(thistuple)\n",
        "y.append(\"orange\")\n",
        "thistuple = tuple(y)\n",
        "print(thistuple)"
      ],
      "metadata": {
        "colab": {
          "base_uri": "https://localhost:8080/"
        },
        "id": "SlpgR3zpaeDp",
        "outputId": "d676e8b8-862c-42b1-d3e5-29353265910f"
      },
      "execution_count": 13,
      "outputs": [
        {
          "output_type": "stream",
          "name": "stdout",
          "text": [
            "('apple', 'banana', 'cherry', 'orange')\n"
          ]
        }
      ]
    },
    {
      "cell_type": "markdown",
      "source": [
        "## Tuple Methods"
      ],
      "metadata": {
        "id": "oTpngRxnbB1m"
      }
    },
    {
      "cell_type": "markdown",
      "source": [
        "**count()**\tReturns the number of times a specified value occurs in a tuple"
      ],
      "metadata": {
        "id": "oVmhsMtDbGXG"
      }
    },
    {
      "cell_type": "code",
      "source": [
        "thistuple = (1, 3, 7, 8, 7, 5, 4, 6, 8, 5)\n",
        "\n",
        "x = thistuple.count(5)\n",
        "\n",
        "print(x)"
      ],
      "metadata": {
        "colab": {
          "base_uri": "https://localhost:8080/"
        },
        "id": "QbC-OvRlbEOj",
        "outputId": "c2e6e4d6-bcc2-494e-a5a7-d28878809596"
      },
      "execution_count": 14,
      "outputs": [
        {
          "output_type": "stream",
          "name": "stdout",
          "text": [
            "2\n"
          ]
        }
      ]
    },
    {
      "cell_type": "markdown",
      "source": [
        "**index()**\tSearches the tuple for a specified value and returns the position of where it was found"
      ],
      "metadata": {
        "id": "ta-GGPNnbLFX"
      }
    },
    {
      "cell_type": "code",
      "source": [
        "thistuple = (1, 3, 7, 8, 7, 5, 4, 6, 8, 5)\n",
        "\n",
        "x = thistuple.index(8)\n",
        "\n",
        "print(x)"
      ],
      "metadata": {
        "colab": {
          "base_uri": "https://localhost:8080/"
        },
        "id": "8n-0qhVUbL4g",
        "outputId": "b1ff8977-7782-4540-85e7-af58f12e9d1f"
      },
      "execution_count": 15,
      "outputs": [
        {
          "output_type": "stream",
          "name": "stdout",
          "text": [
            "3\n"
          ]
        }
      ]
    }
  ]
}