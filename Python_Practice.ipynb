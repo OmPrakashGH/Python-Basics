{
  "nbformat": 4,
  "nbformat_minor": 0,
  "metadata": {
    "colab": {
      "provenance": [],
      "authorship_tag": "ABX9TyO1hVVQohuB/x2Qpm3dwhM0",
      "include_colab_link": true
    },
    "kernelspec": {
      "name": "python3",
      "display_name": "Python 3"
    },
    "language_info": {
      "name": "python"
    }
  },
  "cells": [
    {
      "cell_type": "markdown",
      "metadata": {
        "id": "view-in-github",
        "colab_type": "text"
      },
      "source": [
        "<a href=\"https://colab.research.google.com/github/OmPrakashGH/Python-Basics/blob/main/Python_Practice.ipynb\" target=\"_parent\"><img src=\"https://colab.research.google.com/assets/colab-badge.svg\" alt=\"Open In Colab\"/></a>"
      ]
    },
    {
      "cell_type": "markdown",
      "source": [
        "# Strings"
      ],
      "metadata": {
        "id": "IxZ9htHf96Bd"
      }
    },
    {
      "cell_type": "code",
      "execution_count": 12,
      "metadata": {
        "id": "M_2jEqeE6OrU"
      },
      "outputs": [],
      "source": [
        "sen1 = \"My name is\"\n",
        "sen2 =  \"Om Prakash Pradhan\"\n",
        "word = \"Almabetter\""
      ]
    },
    {
      "cell_type": "markdown",
      "source": [
        "## String Concatenation"
      ],
      "metadata": {
        "id": "2NLcnD3qAEOE"
      }
    },
    {
      "cell_type": "code",
      "source": [
        "print(sen1+' '+sen2+'.')"
      ],
      "metadata": {
        "colab": {
          "base_uri": "https://localhost:8080/"
        },
        "id": "yaFAlDjx-d5T",
        "outputId": "7ba13629-944e-46c1-b852-050dea2b2d73"
      },
      "execution_count": 13,
      "outputs": [
        {
          "output_type": "stream",
          "name": "stdout",
          "text": [
            "My name is Om Prakash Pradhan.\n"
          ]
        }
      ]
    },
    {
      "cell_type": "markdown",
      "source": [
        "## String slicing"
      ],
      "metadata": {
        "id": "LzEcQYvKAInL"
      }
    },
    {
      "cell_type": "code",
      "source": [
        "print(sen1[3:5])\n",
        "\n",
        "# without starting index\n",
        "print(\"sen2[:6]-\",sen2[:6])\n",
        "\n",
        "# without ending index\n",
        "print(\"word[5:]-\",word[5:])\n",
        "\n",
        "# slicing with step size\n",
        "print(\"word[::2]-\",word[::2])\n",
        "\n",
        "# reversing the string by negative step size\n",
        "print(\"word[::-1]-\",word[::-1])"
      ],
      "metadata": {
        "colab": {
          "base_uri": "https://localhost:8080/"
        },
        "id": "MP7seuRC-3uj",
        "outputId": "55e8d1af-4de7-4592-bbd7-55a651ee524c"
      },
      "execution_count": 14,
      "outputs": [
        {
          "output_type": "stream",
          "name": "stdout",
          "text": [
            "na\n",
            "sen2[:6]- Om Pra\n",
            "word[5:]- etter\n",
            "word[::2]- Ambte\n",
            "word[::-1]- rettebamlA\n"
          ]
        }
      ]
    },
    {
      "cell_type": "markdown",
      "source": [
        "## String Methods"
      ],
      "metadata": {
        "id": "gkpWlywhCgxb"
      }
    },
    {
      "cell_type": "code",
      "source": [
        "word = \"Almabetter\""
      ],
      "metadata": {
        "id": "ClhKXy4JCpew"
      },
      "execution_count": 15,
      "outputs": []
    },
    {
      "cell_type": "code",
      "source": [
        "len(word)"
      ],
      "metadata": {
        "colab": {
          "base_uri": "https://localhost:8080/"
        },
        "id": "PTDL42qUClM2",
        "outputId": "bfe02fb4-96ac-4266-908e-31aa15a33e58"
      },
      "execution_count": 16,
      "outputs": [
        {
          "output_type": "execute_result",
          "data": {
            "text/plain": [
              "10"
            ]
          },
          "metadata": {},
          "execution_count": 16
        }
      ]
    },
    {
      "cell_type": "markdown",
      "source": [
        "**capitalize():** returns a string where the first character is upper case, and the rest is lower case."
      ],
      "metadata": {
        "id": "HIMm78HiD7XI"
      }
    },
    {
      "cell_type": "code",
      "source": [
        "txt = \"hello, and welcome to my world.\"\n",
        "x = txt.capitalize()\n",
        "print (x)"
      ],
      "metadata": {
        "colab": {
          "base_uri": "https://localhost:8080/"
        },
        "id": "_Hf52lkJCyWF",
        "outputId": "057adcd1-4c4e-425f-e02f-784b86a860b2"
      },
      "execution_count": 17,
      "outputs": [
        {
          "output_type": "stream",
          "name": "stdout",
          "text": [
            "Hello, and welcome to my world.\n"
          ]
        }
      ]
    },
    {
      "cell_type": "markdown",
      "source": [
        "**count():**\tReturns the number of times a specified value occurs in a string"
      ],
      "metadata": {
        "id": "MJ11kplrEk40"
      }
    },
    {
      "cell_type": "code",
      "source": [
        "txt = \"I love apples, apple are my favorite fruit\"\n",
        "\n",
        "x = txt.count(\"apple\")\n",
        "\n",
        "print(x)"
      ],
      "metadata": {
        "colab": {
          "base_uri": "https://localhost:8080/"
        },
        "id": "FIj82D9CErSa",
        "outputId": "631cbeaa-bbc5-4b76-95b4-2c7d9f037271"
      },
      "execution_count": 18,
      "outputs": [
        {
          "output_type": "stream",
          "name": "stdout",
          "text": [
            "2\n"
          ]
        }
      ]
    },
    {
      "cell_type": "markdown",
      "source": [
        "**endswith():**\tReturns true if the string ends with the specified value\n",
        "\n",
        "**startswith():**\tReturns true if the string starts with the specified value"
      ],
      "metadata": {
        "id": "3BU4sB6zErq1"
      }
    },
    {
      "cell_type": "code",
      "source": [
        "txt = \"Hello, welcome to my world.\"\n",
        "\n",
        "x = txt.endswith(\".\")\n",
        "\n",
        "print(x)\n",
        "\n",
        "txt = \"Hello, welcome to my world.\"\n",
        "\n",
        "x = txt.startswith(\"Hello\")\n",
        "\n",
        "print(x)"
      ],
      "metadata": {
        "colab": {
          "base_uri": "https://localhost:8080/"
        },
        "id": "3Z2gJr_aE1N8",
        "outputId": "c4de58ff-2e36-4dff-bd77-d6f9c20b4474"
      },
      "execution_count": 19,
      "outputs": [
        {
          "output_type": "stream",
          "name": "stdout",
          "text": [
            "True\n",
            "True\n"
          ]
        }
      ]
    },
    {
      "cell_type": "markdown",
      "source": [
        "**find()**\tSearches the string for a specified value and returns the position of where it was found"
      ],
      "metadata": {
        "id": "3ndZV1M8E4iH"
      }
    },
    {
      "cell_type": "code",
      "source": [
        "txt = \"Hello, welcome to my world.\"\n",
        "\n",
        "x = txt.find(\"welcome\")\n",
        "\n",
        "print(x)"
      ],
      "metadata": {
        "colab": {
          "base_uri": "https://localhost:8080/"
        },
        "id": "cvJy2iejE5l_",
        "outputId": "c683d666-85a3-420b-e0ff-3dea9a583fb4"
      },
      "execution_count": 20,
      "outputs": [
        {
          "output_type": "stream",
          "name": "stdout",
          "text": [
            "7\n"
          ]
        }
      ]
    },
    {
      "cell_type": "markdown",
      "source": [
        "**format()**\tFormats specified values in a string"
      ],
      "metadata": {
        "id": "MDiMl58ZE6Am"
      }
    },
    {
      "cell_type": "code",
      "source": [
        "txt = \"For only {price:.2f} dollars!\"\n",
        "print(txt.format(price = 49))"
      ],
      "metadata": {
        "colab": {
          "base_uri": "https://localhost:8080/"
        },
        "id": "V3zzD4FDFA_P",
        "outputId": "94437ff3-9df2-41b1-cbb6-6e636c1a8beb"
      },
      "execution_count": 21,
      "outputs": [
        {
          "output_type": "stream",
          "name": "stdout",
          "text": [
            "For only 49.00 dollars!\n"
          ]
        }
      ]
    },
    {
      "cell_type": "markdown",
      "source": [
        "**isalnum()**\tReturns True if all characters in the string are alphanumeric\n",
        "\n",
        "**isalpha()**\tReturns True if all characters in the string are in the alphabet\n",
        "\n",
        "**isdigit()**\tReturns True if all characters in the string are digits"
      ],
      "metadata": {
        "id": "26edcSgqFBi8"
      }
    },
    {
      "cell_type": "code",
      "source": [
        "txt = \"Company12\"\n",
        "\n",
        "x = txt.isalnum()\n",
        "\n",
        "print(x)"
      ],
      "metadata": {
        "colab": {
          "base_uri": "https://localhost:8080/"
        },
        "id": "UjP-FWqsFJdF",
        "outputId": "cb934e8d-45cf-4fad-d227-ef40192a08c2"
      },
      "execution_count": 22,
      "outputs": [
        {
          "output_type": "stream",
          "name": "stdout",
          "text": [
            "True\n"
          ]
        }
      ]
    },
    {
      "cell_type": "code",
      "source": [
        "txt = \"CompanyX\"\n",
        "\n",
        "x = txt.isalpha()\n",
        "\n",
        "print(x)"
      ],
      "metadata": {
        "colab": {
          "base_uri": "https://localhost:8080/"
        },
        "id": "Rmre7w4iFOkU",
        "outputId": "7183fe1c-04da-4175-dae0-16879031defd"
      },
      "execution_count": 23,
      "outputs": [
        {
          "output_type": "stream",
          "name": "stdout",
          "text": [
            "True\n"
          ]
        }
      ]
    },
    {
      "cell_type": "code",
      "source": [
        "txt = \"50800\"\n",
        "\n",
        "x = txt.isdigit()\n",
        "\n",
        "print(x)"
      ],
      "metadata": {
        "colab": {
          "base_uri": "https://localhost:8080/"
        },
        "id": "YEOPNfCpP_AV",
        "outputId": "8890e3cb-02b5-4a28-9b85-7be39598e9f9"
      },
      "execution_count": 24,
      "outputs": [
        {
          "output_type": "stream",
          "name": "stdout",
          "text": [
            "True\n"
          ]
        }
      ]
    },
    {
      "cell_type": "markdown",
      "source": [
        "**lower()**\tConverts a string into lower case\n",
        "\n",
        "**upper()**\tConverts a string into upper case\n",
        "\n",
        "**swapcase()** Swaps cases, lower case becomes upper case and vice versa"
      ],
      "metadata": {
        "id": "k_YYowW6FTHu"
      }
    },
    {
      "cell_type": "code",
      "source": [
        "txt = \"Hello my FRIENDS\"\n",
        "\n",
        "x = txt.lower()\n",
        "\n",
        "print(x)"
      ],
      "metadata": {
        "colab": {
          "base_uri": "https://localhost:8080/"
        },
        "id": "Vr3KxWAkFRfw",
        "outputId": "4c148273-8b1f-47c3-d287-95562802688e"
      },
      "execution_count": 25,
      "outputs": [
        {
          "output_type": "stream",
          "name": "stdout",
          "text": [
            "hello my friends\n"
          ]
        }
      ]
    },
    {
      "cell_type": "code",
      "source": [
        "txt = \"Hello My Name Is PETER\"\n",
        "\n",
        "x = txt.swapcase()\n",
        "\n",
        "print(x)"
      ],
      "metadata": {
        "colab": {
          "base_uri": "https://localhost:8080/"
        },
        "id": "1trB-stgQSIF",
        "outputId": "c0b9964e-f142-4ab6-f60f-03c21da21de7"
      },
      "execution_count": 26,
      "outputs": [
        {
          "output_type": "stream",
          "name": "stdout",
          "text": [
            "hELLO mY nAME iS peter\n"
          ]
        }
      ]
    },
    {
      "cell_type": "markdown",
      "source": [
        "**replace()**\tReturns a string where a specified value is replaced with a specified value"
      ],
      "metadata": {
        "id": "dRV2ft3JG9I3"
      }
    },
    {
      "cell_type": "code",
      "source": [
        "txt = \"I like bananas\"\n",
        "\n",
        "x = txt.replace(\"bananas\", \"apples\")\n",
        "\n",
        "print(x)"
      ],
      "metadata": {
        "colab": {
          "base_uri": "https://localhost:8080/"
        },
        "id": "3HK6BwKtFUF0",
        "outputId": "37c7c0b4-39a5-441c-f422-da6c54adef68"
      },
      "execution_count": 27,
      "outputs": [
        {
          "output_type": "stream",
          "name": "stdout",
          "text": [
            "I like apples\n"
          ]
        }
      ]
    },
    {
      "cell_type": "markdown",
      "source": [
        "**zfill()**\tFills the string with a specified number of 0 values at the beginning"
      ],
      "metadata": {
        "id": "ghZZy4PvFof0"
      }
    },
    {
      "cell_type": "code",
      "source": [
        "txt = \"50\"\n",
        "\n",
        "x = txt.zfill(10)\n",
        "\n",
        "print(x)"
      ],
      "metadata": {
        "colab": {
          "base_uri": "https://localhost:8080/"
        },
        "id": "KDLsaj6SFpIJ",
        "outputId": "5ff6a916-b887-4efb-d4e3-d7c62df91eb6"
      },
      "execution_count": 28,
      "outputs": [
        {
          "output_type": "stream",
          "name": "stdout",
          "text": [
            "0000000050\n"
          ]
        }
      ]
    },
    {
      "cell_type": "markdown",
      "source": [
        "**split()**\tSplits the string at the specified separator, and returns a list"
      ],
      "metadata": {
        "id": "lCHRuofCFpg1"
      }
    },
    {
      "cell_type": "code",
      "source": [
        "txt = \"welcome to the jungle\"\n",
        "\n",
        "x = txt.split(' ')\n",
        "\n",
        "print(x)"
      ],
      "metadata": {
        "colab": {
          "base_uri": "https://localhost:8080/"
        },
        "id": "VoeCUuz2RN-D",
        "outputId": "6f9ad951-1746-4ed1-c7e2-3b398af37f3a"
      },
      "execution_count": 29,
      "outputs": [
        {
          "output_type": "stream",
          "name": "stdout",
          "text": [
            "['welcome', 'to', 'the', 'jungle']\n"
          ]
        }
      ]
    },
    {
      "cell_type": "markdown",
      "source": [
        "**join()**\tConverts the elements of an iterable into a string"
      ],
      "metadata": {
        "id": "ZKMbfnFjQ9Ah"
      }
    },
    {
      "cell_type": "code",
      "source": [
        "myTuple = (\"John\", \"Peter\", \"Vicky\")\n",
        "\n",
        "x = \"#\".join(myTuple)\n",
        "\n",
        "print(x)"
      ],
      "metadata": {
        "colab": {
          "base_uri": "https://localhost:8080/"
        },
        "id": "KB_3r5zYQ8kE",
        "outputId": "796afbaa-4bf6-46eb-e233-7dbc48825389"
      },
      "execution_count": 30,
      "outputs": [
        {
          "output_type": "stream",
          "name": "stdout",
          "text": [
            "John#Peter#Vicky\n"
          ]
        }
      ]
    }
  ]
}