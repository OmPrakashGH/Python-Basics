{
  "nbformat": 4,
  "nbformat_minor": 0,
  "metadata": {
    "colab": {
      "provenance": [],
      "collapsed_sections": [
        "1Fqqm1uSVNZS",
        "kxYVS9kAWpiU",
        "-2ok8MBuW-2c"
      ],
      "authorship_tag": "ABX9TyNhFW5fB1CMaW1eyao3XIWA",
      "include_colab_link": true
    },
    "kernelspec": {
      "name": "python3",
      "display_name": "Python 3"
    },
    "language_info": {
      "name": "python"
    }
  },
  "cells": [
    {
      "cell_type": "markdown",
      "metadata": {
        "id": "view-in-github",
        "colab_type": "text"
      },
      "source": [
        "<a href=\"https://colab.research.google.com/github/OmPrakashGH/Python-Basics/blob/main/Python_Practice.ipynb\" target=\"_parent\"><img src=\"https://colab.research.google.com/assets/colab-badge.svg\" alt=\"Open In Colab\"/></a>"
      ]
    },
    {
      "cell_type": "markdown",
      "source": [
        "# Strings"
      ],
      "metadata": {
        "id": "IxZ9htHf96Bd"
      }
    },
    {
      "cell_type": "code",
      "execution_count": 1,
      "metadata": {
        "id": "M_2jEqeE6OrU"
      },
      "outputs": [],
      "source": [
        "sen1 = \"My name is\"\n",
        "sen2 =  \"Om Prakash Pradhan\"\n",
        "word = \"Almabetter\""
      ]
    },
    {
      "cell_type": "markdown",
      "source": [
        "## String Concatenation"
      ],
      "metadata": {
        "id": "2NLcnD3qAEOE"
      }
    },
    {
      "cell_type": "code",
      "source": [
        "print(sen1+' '+sen2+'.')"
      ],
      "metadata": {
        "colab": {
          "base_uri": "https://localhost:8080/"
        },
        "id": "yaFAlDjx-d5T",
        "outputId": "580f5aff-7ae6-4fc7-9317-011def3e84bd"
      },
      "execution_count": 2,
      "outputs": [
        {
          "output_type": "stream",
          "name": "stdout",
          "text": [
            "My name is Om Prakash Pradhan.\n"
          ]
        }
      ]
    },
    {
      "cell_type": "markdown",
      "source": [
        "## String slicing"
      ],
      "metadata": {
        "id": "LzEcQYvKAInL"
      }
    },
    {
      "cell_type": "code",
      "source": [
        "print(sen1[3:5])\n",
        "\n",
        "# without starting index\n",
        "print(\"sen2[:6]-\",sen2[:6])\n",
        "\n",
        "# without ending index\n",
        "print(\"word[5:]-\",word[5:])\n",
        "\n",
        "# slicing with step size\n",
        "print(\"word[::2]-\",word[::2])\n",
        "\n",
        "# reversing the string by negative step size\n",
        "print(\"word[::-1]-\",word[::-1])"
      ],
      "metadata": {
        "colab": {
          "base_uri": "https://localhost:8080/"
        },
        "id": "MP7seuRC-3uj",
        "outputId": "27eb6c0b-3f6f-41e4-bcc0-d948cea14b94"
      },
      "execution_count": 3,
      "outputs": [
        {
          "output_type": "stream",
          "name": "stdout",
          "text": [
            "na\n",
            "sen2[:6]- Om Pra\n",
            "word[5:]- etter\n",
            "word[::2]- Ambte\n",
            "word[::-1]- rettebamlA\n"
          ]
        }
      ]
    },
    {
      "cell_type": "markdown",
      "source": [
        "## String Methods"
      ],
      "metadata": {
        "id": "gkpWlywhCgxb"
      }
    },
    {
      "cell_type": "code",
      "source": [
        "word = \"Almabetter\""
      ],
      "metadata": {
        "id": "ClhKXy4JCpew"
      },
      "execution_count": 4,
      "outputs": []
    },
    {
      "cell_type": "code",
      "source": [
        "len(word)"
      ],
      "metadata": {
        "colab": {
          "base_uri": "https://localhost:8080/"
        },
        "id": "PTDL42qUClM2",
        "outputId": "106837ba-afbf-41d4-f1dd-0204750efe48"
      },
      "execution_count": 5,
      "outputs": [
        {
          "output_type": "execute_result",
          "data": {
            "text/plain": [
              "10"
            ]
          },
          "metadata": {},
          "execution_count": 5
        }
      ]
    },
    {
      "cell_type": "markdown",
      "source": [
        "**capitalize():** returns a string where the first character is upper case, and the rest is lower case."
      ],
      "metadata": {
        "id": "HIMm78HiD7XI"
      }
    },
    {
      "cell_type": "code",
      "source": [
        "txt = \"hello, and welcome to my world.\"\n",
        "x = txt.capitalize()\n",
        "print (x)"
      ],
      "metadata": {
        "colab": {
          "base_uri": "https://localhost:8080/"
        },
        "id": "_Hf52lkJCyWF",
        "outputId": "edb4078f-3885-4f47-ec64-075c7500576f"
      },
      "execution_count": 6,
      "outputs": [
        {
          "output_type": "stream",
          "name": "stdout",
          "text": [
            "Hello, and welcome to my world.\n"
          ]
        }
      ]
    },
    {
      "cell_type": "markdown",
      "source": [
        "**count():**\tReturns the number of times a specified value occurs in a string"
      ],
      "metadata": {
        "id": "MJ11kplrEk40"
      }
    },
    {
      "cell_type": "code",
      "source": [
        "txt = \"I love apples, apple are my favorite fruit\"\n",
        "\n",
        "x = txt.count(\"apple\")\n",
        "\n",
        "print(x)"
      ],
      "metadata": {
        "colab": {
          "base_uri": "https://localhost:8080/"
        },
        "id": "FIj82D9CErSa",
        "outputId": "224d17c8-7bb1-488e-b99f-c8a19c9bf4e6"
      },
      "execution_count": 7,
      "outputs": [
        {
          "output_type": "stream",
          "name": "stdout",
          "text": [
            "2\n"
          ]
        }
      ]
    },
    {
      "cell_type": "markdown",
      "source": [
        "**endswith():**\tReturns true if the string ends with the specified value\n",
        "\n",
        "**startswith():**\tReturns true if the string starts with the specified value"
      ],
      "metadata": {
        "id": "3BU4sB6zErq1"
      }
    },
    {
      "cell_type": "code",
      "source": [
        "txt = \"Hello, welcome to my world.\"\n",
        "\n",
        "x = txt.endswith(\".\")\n",
        "\n",
        "print(x)\n",
        "\n",
        "txt = \"Hello, welcome to my world.\"\n",
        "\n",
        "x = txt.startswith(\"Hello\")\n",
        "\n",
        "print(x)"
      ],
      "metadata": {
        "colab": {
          "base_uri": "https://localhost:8080/"
        },
        "id": "3Z2gJr_aE1N8",
        "outputId": "288fa190-cb3f-4b11-abd2-741739407609"
      },
      "execution_count": 8,
      "outputs": [
        {
          "output_type": "stream",
          "name": "stdout",
          "text": [
            "True\n",
            "True\n"
          ]
        }
      ]
    },
    {
      "cell_type": "markdown",
      "source": [
        "**find()**\tSearches the string for a specified value and returns the position of where it was found"
      ],
      "metadata": {
        "id": "3ndZV1M8E4iH"
      }
    },
    {
      "cell_type": "code",
      "source": [
        "txt = \"Hello, welcome to my world.\"\n",
        "\n",
        "x = txt.find(\"welcome\")\n",
        "\n",
        "print(x)"
      ],
      "metadata": {
        "colab": {
          "base_uri": "https://localhost:8080/"
        },
        "id": "cvJy2iejE5l_",
        "outputId": "d743ca16-9a3d-477c-b974-be5032c50045"
      },
      "execution_count": 9,
      "outputs": [
        {
          "output_type": "stream",
          "name": "stdout",
          "text": [
            "7\n"
          ]
        }
      ]
    },
    {
      "cell_type": "markdown",
      "source": [
        "**format()**\tFormats specified values in a string"
      ],
      "metadata": {
        "id": "MDiMl58ZE6Am"
      }
    },
    {
      "cell_type": "code",
      "source": [
        "txt = \"For only {price:.2f} dollars!\"\n",
        "print(txt.format(price = 49))"
      ],
      "metadata": {
        "colab": {
          "base_uri": "https://localhost:8080/"
        },
        "id": "V3zzD4FDFA_P",
        "outputId": "267fd43e-faa1-4386-9d76-2475441157fa"
      },
      "execution_count": 10,
      "outputs": [
        {
          "output_type": "stream",
          "name": "stdout",
          "text": [
            "For only 49.00 dollars!\n"
          ]
        }
      ]
    },
    {
      "cell_type": "markdown",
      "source": [
        "**isalnum()**\tReturns True if all characters in the string are alphanumeric\n",
        "\n",
        "**isalpha()**\tReturns True if all characters in the string are in the alphabet\n",
        "\n",
        "**isdigit()**\tReturns True if all characters in the string are digits"
      ],
      "metadata": {
        "id": "26edcSgqFBi8"
      }
    },
    {
      "cell_type": "code",
      "source": [
        "txt = \"Company12\"\n",
        "\n",
        "x = txt.isalnum()\n",
        "\n",
        "print(x)"
      ],
      "metadata": {
        "colab": {
          "base_uri": "https://localhost:8080/"
        },
        "id": "UjP-FWqsFJdF",
        "outputId": "efbb66c9-18a8-4ba2-a7b5-e9c5530b0585"
      },
      "execution_count": 11,
      "outputs": [
        {
          "output_type": "stream",
          "name": "stdout",
          "text": [
            "True\n"
          ]
        }
      ]
    },
    {
      "cell_type": "code",
      "source": [
        "txt = \"CompanyX\"\n",
        "\n",
        "x = txt.isalpha()\n",
        "\n",
        "print(x)"
      ],
      "metadata": {
        "colab": {
          "base_uri": "https://localhost:8080/"
        },
        "id": "Rmre7w4iFOkU",
        "outputId": "4c27fda3-7b15-4c50-c369-c2376791d83f"
      },
      "execution_count": 12,
      "outputs": [
        {
          "output_type": "stream",
          "name": "stdout",
          "text": [
            "True\n"
          ]
        }
      ]
    },
    {
      "cell_type": "code",
      "source": [
        "txt = \"50800\"\n",
        "\n",
        "x = txt.isdigit()\n",
        "\n",
        "print(x)"
      ],
      "metadata": {
        "colab": {
          "base_uri": "https://localhost:8080/"
        },
        "id": "YEOPNfCpP_AV",
        "outputId": "f22496f3-9772-483f-a884-4a1181da5980"
      },
      "execution_count": 13,
      "outputs": [
        {
          "output_type": "stream",
          "name": "stdout",
          "text": [
            "True\n"
          ]
        }
      ]
    },
    {
      "cell_type": "markdown",
      "source": [
        "**lower()**\tConverts a string into lower case\n",
        "\n",
        "**upper()**\tConverts a string into upper case\n",
        "\n",
        "**swapcase()** Swaps cases, lower case becomes upper case and vice versa"
      ],
      "metadata": {
        "id": "k_YYowW6FTHu"
      }
    },
    {
      "cell_type": "code",
      "source": [
        "txt = \"Hello my FRIENDS\"\n",
        "\n",
        "x = txt.lower()\n",
        "\n",
        "print(x)"
      ],
      "metadata": {
        "colab": {
          "base_uri": "https://localhost:8080/"
        },
        "id": "Vr3KxWAkFRfw",
        "outputId": "d3a92ea4-3f0b-4fb9-ce64-56cf5eac9721"
      },
      "execution_count": 14,
      "outputs": [
        {
          "output_type": "stream",
          "name": "stdout",
          "text": [
            "hello my friends\n"
          ]
        }
      ]
    },
    {
      "cell_type": "code",
      "source": [
        "txt = \"Hello My Name Is PETER\"\n",
        "\n",
        "x = txt.swapcase()\n",
        "\n",
        "print(x)"
      ],
      "metadata": {
        "colab": {
          "base_uri": "https://localhost:8080/"
        },
        "id": "1trB-stgQSIF",
        "outputId": "5f6e68a0-b950-4db2-94a0-4e70ecef903e"
      },
      "execution_count": 15,
      "outputs": [
        {
          "output_type": "stream",
          "name": "stdout",
          "text": [
            "hELLO mY nAME iS peter\n"
          ]
        }
      ]
    },
    {
      "cell_type": "markdown",
      "source": [
        "**replace()**\tReturns a string where a specified value is replaced with a specified value"
      ],
      "metadata": {
        "id": "dRV2ft3JG9I3"
      }
    },
    {
      "cell_type": "code",
      "source": [
        "txt = \"I like bananas\"\n",
        "\n",
        "x = txt.replace(\"bananas\", \"apples\")\n",
        "\n",
        "print(x)"
      ],
      "metadata": {
        "colab": {
          "base_uri": "https://localhost:8080/"
        },
        "id": "3HK6BwKtFUF0",
        "outputId": "b488201c-1a4d-492b-8bb7-c30f686e02e2"
      },
      "execution_count": 16,
      "outputs": [
        {
          "output_type": "stream",
          "name": "stdout",
          "text": [
            "I like apples\n"
          ]
        }
      ]
    },
    {
      "cell_type": "markdown",
      "source": [
        "**zfill()**\tFills the string with a specified number of 0 values at the beginning"
      ],
      "metadata": {
        "id": "ghZZy4PvFof0"
      }
    },
    {
      "cell_type": "code",
      "source": [
        "txt = \"50\"\n",
        "\n",
        "x = txt.zfill(10)\n",
        "\n",
        "print(x)"
      ],
      "metadata": {
        "colab": {
          "base_uri": "https://localhost:8080/"
        },
        "id": "KDLsaj6SFpIJ",
        "outputId": "864696f8-6118-45e8-dab2-60f63b94f190"
      },
      "execution_count": 17,
      "outputs": [
        {
          "output_type": "stream",
          "name": "stdout",
          "text": [
            "0000000050\n"
          ]
        }
      ]
    },
    {
      "cell_type": "markdown",
      "source": [
        "**split()**\tSplits the string at the specified separator, and returns a list"
      ],
      "metadata": {
        "id": "lCHRuofCFpg1"
      }
    },
    {
      "cell_type": "code",
      "source": [
        "txt = \"welcome to the jungle\"\n",
        "\n",
        "x = txt.split(' ')\n",
        "\n",
        "print(x)"
      ],
      "metadata": {
        "colab": {
          "base_uri": "https://localhost:8080/"
        },
        "id": "VoeCUuz2RN-D",
        "outputId": "3922f857-cfbf-486a-80a1-32fca7469c61"
      },
      "execution_count": 18,
      "outputs": [
        {
          "output_type": "stream",
          "name": "stdout",
          "text": [
            "['welcome', 'to', 'the', 'jungle']\n"
          ]
        }
      ]
    },
    {
      "cell_type": "markdown",
      "source": [
        "**join()**\tConverts the elements of an iterable into a string"
      ],
      "metadata": {
        "id": "ZKMbfnFjQ9Ah"
      }
    },
    {
      "cell_type": "code",
      "source": [
        "myTuple = (\"John\", \"Peter\", \"Vicky\")\n",
        "\n",
        "x = \"#\".join(myTuple)\n",
        "\n",
        "print(x)"
      ],
      "metadata": {
        "colab": {
          "base_uri": "https://localhost:8080/"
        },
        "id": "KB_3r5zYQ8kE",
        "outputId": "4c86553b-c811-4122-bcee-072a18dfa290"
      },
      "execution_count": 19,
      "outputs": [
        {
          "output_type": "stream",
          "name": "stdout",
          "text": [
            "John#Peter#Vicky\n"
          ]
        }
      ]
    },
    {
      "cell_type": "markdown",
      "source": [
        "# Python Collections (Arrays)"
      ],
      "metadata": {
        "id": "1Fqqm1uSVNZS"
      }
    },
    {
      "cell_type": "markdown",
      "source": [
        "\n",
        "\n",
        "There are four collection data types in the Python programming language:\n",
        "\n",
        "1. **List** is a collection which is ordered and changeable. Allows duplicate members.\n",
        "2. **Tuple** is a collection which is ordered and **unchangeable**. Allows duplicate members.\n",
        "3. **Set** is a collection which is unordered, **unchangeable**, and unindexed. No duplicate members.\n",
        "4. **Dictionary** is a collection which is ordered and changeable. No duplicate members."
      ],
      "metadata": {
        "id": "9rsVsgeYVFQ_"
      }
    },
    {
      "cell_type": "markdown",
      "source": [
        "# List"
      ],
      "metadata": {
        "id": "93_0ukMMTj_P"
      }
    },
    {
      "cell_type": "markdown",
      "source": [
        "Ordered\n",
        "\n",
        "Changable\n",
        "\n",
        "Allow Duplicates"
      ],
      "metadata": {
        "id": "Kyo6z4ouWZi9"
      }
    },
    {
      "cell_type": "markdown",
      "source": [
        "## List Operations"
      ],
      "metadata": {
        "id": "kxYVS9kAWpiU"
      }
    },
    {
      "cell_type": "code",
      "source": [
        "thislist = [\"apple\", \"banana\", \"cherry\"]\n",
        "if \"apple\" in thislist:\n",
        "  print(\"Yes, 'apple' is in the fruits list\")"
      ],
      "metadata": {
        "colab": {
          "base_uri": "https://localhost:8080/"
        },
        "id": "fdYNnM5IW289",
        "outputId": "472487f5-83fb-44f5-f449-e1cdfc225260"
      },
      "execution_count": 20,
      "outputs": [
        {
          "output_type": "stream",
          "name": "stdout",
          "text": [
            "Yes, 'apple' is in the fruits list\n"
          ]
        }
      ]
    },
    {
      "cell_type": "code",
      "source": [
        "# Change List Items\n",
        "\n",
        "thislist = [\"apple\", \"banana\", \"cherry\", \"orange\", \"kiwi\", \"mango\"]\n",
        "thislist[1:3] = [\"blackcurrant\", \"watermelon\"]\n",
        "print(thislist)"
      ],
      "metadata": {
        "colab": {
          "base_uri": "https://localhost:8080/"
        },
        "id": "z4Ts__6UXM5N",
        "outputId": "8a122cbb-a131-4d57-c9c2-8df2288482e3"
      },
      "execution_count": 21,
      "outputs": [
        {
          "output_type": "stream",
          "name": "stdout",
          "text": [
            "['apple', 'blackcurrant', 'watermelon', 'orange', 'kiwi', 'mango']\n"
          ]
        }
      ]
    },
    {
      "cell_type": "code",
      "source": [
        "# Insert \"watermelon\" as the third item:\n",
        "\n",
        "thislist = [\"apple\", \"banana\", \"cherry\"]\n",
        "thislist.insert(2, \"watermelon\")\n",
        "print(thislist)"
      ],
      "metadata": {
        "colab": {
          "base_uri": "https://localhost:8080/"
        },
        "id": "hz6E4vTyXU6F",
        "outputId": "54e8bd10-7a76-4f55-9a32-e9d9c73b5170"
      },
      "execution_count": 22,
      "outputs": [
        {
          "output_type": "stream",
          "name": "stdout",
          "text": [
            "['apple', 'banana', 'watermelon', 'cherry']\n"
          ]
        }
      ]
    },
    {
      "cell_type": "markdown",
      "source": [
        "## Loop Lists"
      ],
      "metadata": {
        "id": "h3S0L8JrX0RJ"
      }
    },
    {
      "cell_type": "code",
      "source": [
        "# Print all items in the list, one by one:\n",
        "\n",
        "thislist = [\"apple\", \"banana\", \"cherry\"]\n",
        "for x in thislist:\n",
        "  print(x)"
      ],
      "metadata": {
        "colab": {
          "base_uri": "https://localhost:8080/"
        },
        "id": "vzEge4yQX2kL",
        "outputId": "1f7de149-1c29-48c4-f980-3c0d908fac38"
      },
      "execution_count": 23,
      "outputs": [
        {
          "output_type": "stream",
          "name": "stdout",
          "text": [
            "apple\n",
            "banana\n",
            "cherry\n"
          ]
        }
      ]
    },
    {
      "cell_type": "code",
      "source": [
        "# Print all items by referring to their index number:\n",
        "\n",
        "thislist = [\"apple\", \"banana\", \"cherry\"]\n",
        "for i in range(len(thislist)):\n",
        "  print(thislist[i])"
      ],
      "metadata": {
        "colab": {
          "base_uri": "https://localhost:8080/"
        },
        "id": "fHpleT1AX97v",
        "outputId": "d2120c37-93ca-48cf-9497-7e49d41d8174"
      },
      "execution_count": 24,
      "outputs": [
        {
          "output_type": "stream",
          "name": "stdout",
          "text": [
            "apple\n",
            "banana\n",
            "cherry\n"
          ]
        }
      ]
    },
    {
      "cell_type": "code",
      "source": [
        "# Print all items, using a while loop to go through all the index numbers\n",
        "\n",
        "thislist = [\"apple\", \"banana\", \"cherry\"]\n",
        "i = 0\n",
        "while i < len(thislist):\n",
        "  print(thislist[i])\n",
        "  i = i + 1"
      ],
      "metadata": {
        "colab": {
          "base_uri": "https://localhost:8080/"
        },
        "id": "JGHpFZSpYC4B",
        "outputId": "604c5f00-27c0-44e2-a88f-538888646b9d"
      },
      "execution_count": 25,
      "outputs": [
        {
          "output_type": "stream",
          "name": "stdout",
          "text": [
            "apple\n",
            "banana\n",
            "cherry\n"
          ]
        }
      ]
    },
    {
      "cell_type": "code",
      "source": [
        "# Looping using list comprehention\n",
        "\n",
        "thislist = [\"apple\", \"banana\", \"cherry\"]\n",
        "print([i for i in thislist])"
      ],
      "metadata": {
        "colab": {
          "base_uri": "https://localhost:8080/"
        },
        "id": "qx4IQwqtYJ8-",
        "outputId": "6f8b3d5a-4d61-4639-8267-8b1e87fc49f5"
      },
      "execution_count": 26,
      "outputs": [
        {
          "output_type": "stream",
          "name": "stdout",
          "text": [
            "['apple', 'banana', 'cherry']\n"
          ]
        }
      ]
    },
    {
      "cell_type": "markdown",
      "source": [
        "## List Methods"
      ],
      "metadata": {
        "id": "-2ok8MBuW-2c"
      }
    },
    {
      "cell_type": "markdown",
      "source": [
        "**append()**\tAdds an element at the end of the list"
      ],
      "metadata": {
        "id": "fqcMALxJFySI"
      }
    },
    {
      "cell_type": "code",
      "source": [
        "fruits = ['apple', 'banana', 'cherry']\n",
        "fruits.append(\"orange\")\n",
        "print(fruits)"
      ],
      "metadata": {
        "id": "lCR8GWNqTro7",
        "colab": {
          "base_uri": "https://localhost:8080/"
        },
        "outputId": "87a950c6-89b6-4a44-ae4a-fa8948ec3bcf"
      },
      "execution_count": 27,
      "outputs": [
        {
          "output_type": "stream",
          "name": "stdout",
          "text": [
            "['apple', 'banana', 'cherry', 'orange']\n"
          ]
        }
      ]
    },
    {
      "cell_type": "markdown",
      "source": [
        "**extend()**\tAdd the elements of a list (or any iterable), to the end of the current list"
      ],
      "metadata": {
        "id": "qG_Y4AeHF0Ud"
      }
    },
    {
      "cell_type": "code",
      "source": [
        "fruits = ['apple', 'banana', 'cherry']\n",
        "\n",
        "points = (1, 4, 5, 9)\n",
        "\n",
        "fruits.extend(points)\n",
        "\n",
        "print(fruits)"
      ],
      "metadata": {
        "colab": {
          "base_uri": "https://localhost:8080/"
        },
        "id": "ZLTiJ30PFzwy",
        "outputId": "beff8cae-e73e-48d2-97cd-b16209a78f73"
      },
      "execution_count": 28,
      "outputs": [
        {
          "output_type": "stream",
          "name": "stdout",
          "text": [
            "['apple', 'banana', 'cherry', 1, 4, 5, 9]\n"
          ]
        }
      ]
    },
    {
      "cell_type": "markdown",
      "source": [
        "**pop()**\tRemoves the element at the specified position"
      ],
      "metadata": {
        "id": "tJCGZ3rSGYI_"
      }
    },
    {
      "cell_type": "code",
      "source": [
        "fruits = ['apple', 'banana', 'cherry']\n",
        "fruits.pop(1)  # Takes index as argument\n",
        "print(fruits)"
      ],
      "metadata": {
        "colab": {
          "base_uri": "https://localhost:8080/"
        },
        "id": "yw1SN8K9GY1t",
        "outputId": "ab87b340-3ae4-4a0c-e6fe-4961c8e1ee50"
      },
      "execution_count": 29,
      "outputs": [
        {
          "output_type": "stream",
          "name": "stdout",
          "text": [
            "['apple', 'cherry']\n"
          ]
        }
      ]
    },
    {
      "cell_type": "markdown",
      "source": [
        "**remove()**\tRemoves the first item with the specified value"
      ],
      "metadata": {
        "id": "woyFFNXpGa8T"
      }
    },
    {
      "cell_type": "code",
      "source": [
        "fruits = ['apple', 'banana', 'cherry']\n",
        "fruits.remove(\"banana\")  # Takes element to be removed as argument\n",
        "print(fruits)"
      ],
      "metadata": {
        "colab": {
          "base_uri": "https://localhost:8080/"
        },
        "id": "OjuTguubGbUK",
        "outputId": "3df51b22-e4d4-417f-e9f2-f727c418df81"
      },
      "execution_count": 30,
      "outputs": [
        {
          "output_type": "stream",
          "name": "stdout",
          "text": [
            "['apple', 'cherry']\n"
          ]
        }
      ]
    },
    {
      "cell_type": "markdown",
      "source": [
        "**count()**\tReturns the number of elements with the specified value"
      ],
      "metadata": {
        "id": "DOMLdWtbFzbw"
      }
    },
    {
      "cell_type": "code",
      "source": [
        "fruits = ['apple', 'banana', 'cherry']\n",
        "x = fruits.count(\"cherry\")\n",
        "print(x)"
      ],
      "metadata": {
        "colab": {
          "base_uri": "https://localhost:8080/"
        },
        "id": "0nApc_7OF0pP",
        "outputId": "73e6b6d6-a342-485e-b19d-17104f3c1c83"
      },
      "execution_count": 31,
      "outputs": [
        {
          "output_type": "stream",
          "name": "stdout",
          "text": [
            "1\n"
          ]
        }
      ]
    },
    {
      "cell_type": "markdown",
      "source": [
        "**index()**\tReturns the index of the first element with the specified value"
      ],
      "metadata": {
        "id": "pQJiadolF07U"
      }
    },
    {
      "cell_type": "code",
      "source": [
        "fruits = ['apple', 'banana', 'cherry']\n",
        "x = fruits.index(\"cherry\")\n",
        "print(x)"
      ],
      "metadata": {
        "colab": {
          "base_uri": "https://localhost:8080/"
        },
        "id": "gDQ5HBnEF1QL",
        "outputId": "2c017112-8941-49ec-b7cd-13bd3b214352"
      },
      "execution_count": 32,
      "outputs": [
        {
          "output_type": "stream",
          "name": "stdout",
          "text": [
            "2\n"
          ]
        }
      ]
    },
    {
      "cell_type": "markdown",
      "source": [
        "**insert()**\tAdds an element at the specified position"
      ],
      "metadata": {
        "id": "bnODC6NtF1uL"
      }
    },
    {
      "cell_type": "code",
      "source": [
        "# Insert the value \"orange\" as the second element of the fruit list:\n",
        "\n",
        "fruits = ['apple', 'banana', 'cherry']\n",
        "\n",
        "fruits.insert(1, \"orange\")\n",
        "\n",
        "print(fruits)"
      ],
      "metadata": {
        "colab": {
          "base_uri": "https://localhost:8080/"
        },
        "id": "F115QHTDF2EY",
        "outputId": "8527e8a8-aec9-4ba3-cf48-8c96e37cda9a"
      },
      "execution_count": 33,
      "outputs": [
        {
          "output_type": "stream",
          "name": "stdout",
          "text": [
            "['apple', 'orange', 'banana', 'cherry']\n"
          ]
        }
      ]
    },
    {
      "cell_type": "markdown",
      "source": [
        "**reverse()**\tReverses the order of the list"
      ],
      "metadata": {
        "id": "Rpuu4j3xF2Y9"
      }
    },
    {
      "cell_type": "code",
      "source": [
        "fruits = ['apple', 'banana', 'cherry']\n",
        "\n",
        "fruits.reverse()\n",
        "\n",
        "print(fruits)"
      ],
      "metadata": {
        "colab": {
          "base_uri": "https://localhost:8080/"
        },
        "id": "bBr7Xs6EF2zp",
        "outputId": "80e64a77-40e8-4178-f548-dcb7ad8b7962"
      },
      "execution_count": 34,
      "outputs": [
        {
          "output_type": "stream",
          "name": "stdout",
          "text": [
            "['cherry', 'banana', 'apple']\n"
          ]
        }
      ]
    },
    {
      "cell_type": "markdown",
      "source": [
        "**sort()**\tSorts the list"
      ],
      "metadata": {
        "id": "3njGPNpHF3Nx"
      }
    },
    {
      "cell_type": "code",
      "source": [
        "cars = ['Ford', 'BMW', 'Volvo']\n",
        "num = [5,9,63,8]\n",
        "\n",
        "cars.sort()                # For Ascending\n",
        "num.sort(reverse = True)   # For Descending\n",
        "\n",
        "print(cars)\n",
        "print(num)"
      ],
      "metadata": {
        "colab": {
          "base_uri": "https://localhost:8080/"
        },
        "id": "MSX-4cZdF3jn",
        "outputId": "d4eab3d4-6c48-43f1-e158-869b666f4436"
      },
      "execution_count": 35,
      "outputs": [
        {
          "output_type": "stream",
          "name": "stdout",
          "text": [
            "['BMW', 'Ford', 'Volvo']\n",
            "[63, 9, 8, 5]\n"
          ]
        }
      ]
    },
    {
      "cell_type": "markdown",
      "source": [
        "**clear()**\tRemoves all the elements from the list"
      ],
      "metadata": {
        "id": "3LJBrwKrF322"
      }
    },
    {
      "cell_type": "code",
      "source": [
        "fruits = ['apple', 'banana', 'cherry', 'orange']\n",
        "\n",
        "fruits.clear()\n",
        "\n",
        "print(fruits)"
      ],
      "metadata": {
        "colab": {
          "base_uri": "https://localhost:8080/"
        },
        "id": "Wynu6lzoF4OP",
        "outputId": "832e04b0-2f9a-4484-f003-b958d92ff075"
      },
      "execution_count": 36,
      "outputs": [
        {
          "output_type": "stream",
          "name": "stdout",
          "text": [
            "[]\n"
          ]
        }
      ]
    },
    {
      "cell_type": "markdown",
      "source": [
        "**min(), max(), sum()**"
      ],
      "metadata": {
        "id": "kgLpM1ZUF4qm"
      }
    },
    {
      "cell_type": "code",
      "source": [
        "print(min([2,9,1,89]))\n",
        "print(max([69,9,7,89,36,1]))\n",
        "print(sum([21,6,98]))"
      ],
      "metadata": {
        "colab": {
          "base_uri": "https://localhost:8080/"
        },
        "id": "XKx5_71mF5Cj",
        "outputId": "88030c3f-8c88-47f0-8ebd-2d8a77599da4"
      },
      "execution_count": 37,
      "outputs": [
        {
          "output_type": "stream",
          "name": "stdout",
          "text": [
            "1\n",
            "89\n",
            "125\n"
          ]
        }
      ]
    },
    {
      "cell_type": "code",
      "source": [
        "# Join two list:\n",
        "\n",
        "list1 = [\"a\", \"b\", \"c\"]\n",
        "list2 = [1, 2, 3]\n",
        "\n",
        "list3 = list1 + list2\n",
        "print(list3)"
      ],
      "metadata": {
        "colab": {
          "base_uri": "https://localhost:8080/"
        },
        "id": "lqAWT_vUXmnG",
        "outputId": "2f8636e0-24b6-4abb-92fc-c7c15d4a5b68"
      },
      "execution_count": 38,
      "outputs": [
        {
          "output_type": "stream",
          "name": "stdout",
          "text": [
            "['a', 'b', 'c', 1, 2, 3]\n"
          ]
        }
      ]
    },
    {
      "cell_type": "markdown",
      "source": [
        "# Tuple"
      ],
      "metadata": {
        "id": "H2nGezl4WJx7"
      }
    },
    {
      "cell_type": "markdown",
      "source": [
        "**Ordered**\n",
        "\n",
        "When we say that tuples are ordered, it means that the items have a defined order, and that order will not change.\n",
        "\n",
        "**Unchangeable**\n",
        "\n",
        "Tuples are unchangeable, meaning that we cannot change, add or remove items after the tuple has been created.\n",
        "\n",
        "**Allow Duplicates**\n",
        "\n",
        "Since tuples are indexed, they can have items with the same value:"
      ],
      "metadata": {
        "id": "QD80XhlJZ0Qk"
      }
    },
    {
      "cell_type": "code",
      "source": [
        "tuple1 = (\"abc\", 34, True, 40, \"male\")"
      ],
      "metadata": {
        "id": "bB_MbGKPWPSQ"
      },
      "execution_count": 39,
      "outputs": []
    },
    {
      "cell_type": "markdown",
      "source": [
        "**Change Tuple Values**\n",
        "\n",
        "Once a tuple is created, you cannot change its values. Tuples are unchangeable, or immutable as it also is called.\n",
        "\n",
        "But there is a workaround. You can convert the tuple into a list, change the list, and convert the list back into a tuple.\n",
        "\n",
        "Example\n",
        "Convert the tuple into a list to be able to change it:"
      ],
      "metadata": {
        "id": "spvt9c8caMKV"
      }
    },
    {
      "cell_type": "code",
      "source": [
        "x = (\"apple\", \"banana\", \"cherry\")\n",
        "y = list(x)\n",
        "y[1] = \"kiwi\"\n",
        "x = tuple(y)\n",
        "\n",
        "print(x)"
      ],
      "metadata": {
        "colab": {
          "base_uri": "https://localhost:8080/"
        },
        "id": "0Xg4Ptb_aJBX",
        "outputId": "3d9dc3f3-046e-4997-e0c8-2c19c89c6f52"
      },
      "execution_count": 40,
      "outputs": [
        {
          "output_type": "stream",
          "name": "stdout",
          "text": [
            "('apple', 'kiwi', 'cherry')\n"
          ]
        }
      ]
    },
    {
      "cell_type": "markdown",
      "source": [
        "**Add Items**\n",
        "\n",
        "Convert the tuple into a list, add \"orange\", and convert it back into a tuple:"
      ],
      "metadata": {
        "id": "EFMuKmfjadxm"
      }
    },
    {
      "cell_type": "code",
      "source": [
        "thistuple = (\"apple\", \"banana\", \"cherry\")\n",
        "y = list(thistuple)\n",
        "y.append(\"orange\")\n",
        "thistuple = tuple(y)\n",
        "print(thistuple)"
      ],
      "metadata": {
        "colab": {
          "base_uri": "https://localhost:8080/"
        },
        "id": "SlpgR3zpaeDp",
        "outputId": "66b607b9-09b7-4aa1-8366-894f17fae83c"
      },
      "execution_count": 41,
      "outputs": [
        {
          "output_type": "stream",
          "name": "stdout",
          "text": [
            "('apple', 'banana', 'cherry', 'orange')\n"
          ]
        }
      ]
    },
    {
      "cell_type": "markdown",
      "source": [
        "## Tuple Methods"
      ],
      "metadata": {
        "id": "oTpngRxnbB1m"
      }
    },
    {
      "cell_type": "markdown",
      "source": [
        "**count()**\tReturns the number of times a specified value occurs in a tuple"
      ],
      "metadata": {
        "id": "oVmhsMtDbGXG"
      }
    },
    {
      "cell_type": "code",
      "source": [
        "thistuple = (1, 3, 7, 8, 7, 5, 4, 6, 8, 5)\n",
        "\n",
        "x = thistuple.count(5)\n",
        "\n",
        "print(x)"
      ],
      "metadata": {
        "colab": {
          "base_uri": "https://localhost:8080/"
        },
        "id": "QbC-OvRlbEOj",
        "outputId": "30937dfe-6b21-48a0-aa42-e2fea420d5a5"
      },
      "execution_count": 42,
      "outputs": [
        {
          "output_type": "stream",
          "name": "stdout",
          "text": [
            "2\n"
          ]
        }
      ]
    },
    {
      "cell_type": "markdown",
      "source": [
        "**index()**\tSearches the tuple for a specified value and returns the position of where it was found"
      ],
      "metadata": {
        "id": "ta-GGPNnbLFX"
      }
    },
    {
      "cell_type": "code",
      "source": [
        "thistuple = (1, 3, 7, 8, 7, 5, 4, 6, 8, 5)\n",
        "\n",
        "x = thistuple.index(8)\n",
        "\n",
        "print(x)"
      ],
      "metadata": {
        "colab": {
          "base_uri": "https://localhost:8080/"
        },
        "id": "8n-0qhVUbL4g",
        "outputId": "6fc4c5ac-ed83-420c-e601-77b22dcec11e"
      },
      "execution_count": 43,
      "outputs": [
        {
          "output_type": "stream",
          "name": "stdout",
          "text": [
            "3\n"
          ]
        }
      ]
    },
    {
      "cell_type": "markdown",
      "source": [
        "# Sets"
      ],
      "metadata": {
        "id": "LTeW8ewjibhv"
      }
    },
    {
      "cell_type": "markdown",
      "source": [
        "# Unordered\n",
        "Unordered means that the items in a set do not have a defined order.\n",
        "\n",
        "Set items can appear in a different order every time you use them, and **cannot be referred to by index or key**.\n",
        "\n",
        "# Unchangeable\n",
        "Set items are unchangeable, meaning that we cannot change the items after the set has been created.\n",
        "\n",
        "Once a set is created, you cannot change its items, but you can remove items and add new items.\n",
        "\n",
        "# Duplicates Not Allowed\n",
        "Sets cannot have two items with the same value."
      ],
      "metadata": {
        "id": "1Yj9Cbwoid8j"
      }
    },
    {
      "cell_type": "code",
      "source": [
        "set1 = {\"apple\", 6, \"banana\", \"cherry\", True, \"apple\"}\n",
        "print(set1)"
      ],
      "metadata": {
        "colab": {
          "base_uri": "https://localhost:8080/"
        },
        "id": "Ht3ucaDXi11k",
        "outputId": "74d15c70-f453-4334-d27c-7f09c3f765c9"
      },
      "execution_count": 46,
      "outputs": [
        {
          "output_type": "stream",
          "name": "stdout",
          "text": [
            "{True, 'apple', 6, 'cherry', 'banana'}\n"
          ]
        }
      ]
    },
    {
      "cell_type": "code",
      "source": [
        "# len() function\n",
        "len(set1)"
      ],
      "metadata": {
        "colab": {
          "base_uri": "https://localhost:8080/"
        },
        "id": "SN-iIA52jUaz",
        "outputId": "2f37c45d-dcff-4b33-e2e6-8752add6b6d6"
      },
      "execution_count": 47,
      "outputs": [
        {
          "output_type": "execute_result",
          "data": {
            "text/plain": [
              "5"
            ]
          },
          "metadata": {},
          "execution_count": 47
        }
      ]
    },
    {
      "cell_type": "markdown",
      "source": [
        "Once a set is created, you cannot change its items, but you can add new items.\n",
        "\n",
        "## Add Any Iterable\n",
        "\n",
        "The object in the **update()** method does not have to be a set, it can be any iterable object (tuples, lists, dictionaries etc.)."
      ],
      "metadata": {
        "id": "t7MY-FbGjj7r"
      }
    },
    {
      "cell_type": "code",
      "source": [
        "thisset = {\"apple\", \"banana\", \"cherry\"}\n",
        "mylist = [\"kiwi\", \"orange\"]\n",
        "\n",
        "thisset.update(mylist)\n",
        "\n",
        "print(thisset)"
      ],
      "metadata": {
        "colab": {
          "base_uri": "https://localhost:8080/"
        },
        "id": "DwuKxN8ojli9",
        "outputId": "d716d78f-1bd2-49f3-cc5a-12014476187d"
      },
      "execution_count": 48,
      "outputs": [
        {
          "output_type": "stream",
          "name": "stdout",
          "text": [
            "{'apple', 'cherry', 'orange', 'banana', 'kiwi'}\n"
          ]
        }
      ]
    },
    {
      "cell_type": "markdown",
      "source": [
        "## Remove Item\n",
        "\n",
        "To remove an item in a set, use the **remove()**, or the **discard()** method."
      ],
      "metadata": {
        "id": "N0KcmbHPkZET"
      }
    },
    {
      "cell_type": "code",
      "source": [
        "thisset = {\"apple\", \"banana\", \"cherry\"}\n",
        "\n",
        "thisset.remove(\"banana\")\n",
        "\n",
        "print(thisset)"
      ],
      "metadata": {
        "colab": {
          "base_uri": "https://localhost:8080/"
        },
        "id": "239g542BkgWf",
        "outputId": "96f8845c-9bb7-4948-ce5e-8dc728040191"
      },
      "execution_count": 49,
      "outputs": [
        {
          "output_type": "stream",
          "name": "stdout",
          "text": [
            "{'apple', 'cherry'}\n"
          ]
        }
      ]
    },
    {
      "cell_type": "markdown",
      "source": [
        "## Other set methods"
      ],
      "metadata": {
        "id": "LVzg4oDIk7yY"
      }
    },
    {
      "cell_type": "markdown",
      "source": [
        "**union()**\tReturn a set containing the union of sets"
      ],
      "metadata": {
        "id": "WhUtcYtDlN_q"
      }
    },
    {
      "cell_type": "code",
      "source": [
        "x = {\"apple\", \"banana\", \"cherry\"}\n",
        "y = {\"google\", \"microsoft\", \"apple\"}\n",
        "\n",
        "z = x.union(y)\n",
        "\n",
        "print(z)"
      ],
      "metadata": {
        "colab": {
          "base_uri": "https://localhost:8080/"
        },
        "id": "th7Jh-z9lB7G",
        "outputId": "ae71f159-d9af-4911-cadf-cec5653a3be6"
      },
      "execution_count": 50,
      "outputs": [
        {
          "output_type": "stream",
          "name": "stdout",
          "text": [
            "{'banana', 'apple', 'microsoft', 'cherry', 'google'}\n"
          ]
        }
      ]
    },
    {
      "cell_type": "markdown",
      "source": [
        "**intersection()**\tReturns a set, that is the intersection of two or more sets"
      ],
      "metadata": {
        "id": "i-hHz7MUlUKe"
      }
    },
    {
      "cell_type": "code",
      "source": [
        "x = {\"apple\", \"banana\", \"cherry\"}\n",
        "y = {\"google\", \"microsoft\", \"apple\"}\n",
        "\n",
        "z = x.intersection(y)\n",
        "\n",
        "print(z)"
      ],
      "metadata": {
        "colab": {
          "base_uri": "https://localhost:8080/"
        },
        "id": "655TxFF5ld-c",
        "outputId": "fb94080d-a762-48bd-9193-985b41f74d0d"
      },
      "execution_count": 51,
      "outputs": [
        {
          "output_type": "stream",
          "name": "stdout",
          "text": [
            "{'apple'}\n"
          ]
        }
      ]
    },
    {
      "cell_type": "markdown",
      "source": [
        "**symmetric_difference()**\tReturns a set with the symmetric differences of two sets\n",
        "\n",
        "Return a set that contains all items from both sets, except items that are present in both sets:"
      ],
      "metadata": {
        "id": "9rn9RpNrlo-z"
      }
    },
    {
      "cell_type": "code",
      "source": [
        "x = {\"apple\", \"banana\", \"cherry\"}\n",
        "y = {\"google\", \"microsoft\", \"apple\"}\n",
        "\n",
        "z = x.symmetric_difference(y)\n",
        "\n",
        "print(z)"
      ],
      "metadata": {
        "colab": {
          "base_uri": "https://localhost:8080/"
        },
        "id": "h2iOKDNAlqY4",
        "outputId": "bb4a0660-44c0-4770-b6b0-ecb0329817b4"
      },
      "execution_count": 52,
      "outputs": [
        {
          "output_type": "stream",
          "name": "stdout",
          "text": [
            "{'banana', 'cherry', 'google', 'microsoft'}\n"
          ]
        }
      ]
    }
  ]
}